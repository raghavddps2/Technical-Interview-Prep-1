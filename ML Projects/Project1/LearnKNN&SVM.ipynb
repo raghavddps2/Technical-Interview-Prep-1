{
 "cells": [
  {
   "cell_type": "code",
   "execution_count": 8,
   "metadata": {},
   "outputs": [],
   "source": [
    "from sklearn import datasets\n",
    "from sklearn.model_selection import train_test_split\n",
    "from sklearn import svm\n",
    "from sklearn.neighbors import KNeighborsClassifier\n",
    "from sklearn import metrics"
   ]
  },
  {
   "cell_type": "code",
   "execution_count": 7,
   "metadata": {},
   "outputs": [
    {
     "name": "stdout",
     "output_type": "stream",
     "text": [
      "Accuracy:  0.9254385964912281\n",
      "Precision:  0.9333333333333333\n",
      "Recall:  0.9402985074626866\n",
      "Classification report: \n",
      "               precision    recall  f1-score   support\n",
      "\n",
      "           0       0.91      0.90      0.91        94\n",
      "           1       0.93      0.94      0.94       134\n",
      "\n",
      "    accuracy                           0.93       228\n",
      "   macro avg       0.92      0.92      0.92       228\n",
      "weighted avg       0.93      0.93      0.93       228\n",
      "\n"
     ]
    }
   ],
   "source": [
    "#Loading the data\n",
    "cancer_data = datasets.load_breast_cancer()\n",
    "\n",
    "#Splitting the data\n",
    "X_train,X_test,y_train,y_test = train_test_split(cancer_data.data,cancer_data.target,test_size=0.4,random_state=209)\n",
    "\n",
    "#generate the classifier\n",
    "cls = svm.SVC(kernel='linear')\n",
    "\n",
    "#train the model\n",
    "cls.fit(X_train,y_train)\n",
    "\n",
    "#predict the respinse\n",
    "pred  =cls.predict(X_test)\n",
    "\n",
    "#Accuracy\n",
    "print(\"Accuracy: \",metrics.accuracy_score(y_test,pred))\n",
    "\n",
    "#precision\n",
    "print(\"Precision: \",metrics.precision_score(y_test,pred))\n",
    "\n",
    "#recall\n",
    "print(\"Recall: \",metrics.recall_score(y_test,pred))\n",
    "\n",
    "#classification report\n",
    "print(\"Classification report: \\n\",metrics.classification_report(y_test,pred))"
   ]
  },
  {
   "cell_type": "code",
   "execution_count": 10,
   "metadata": {},
   "outputs": [
    {
     "name": "stdout",
     "output_type": "stream",
     "text": [
      "Accuracy:  0.9166666666666666\n",
      "Precision:  0.9197080291970803\n",
      "Recall:  0.9402985074626866\n",
      "Classification report: \n",
      "               precision    recall  f1-score   support\n",
      "\n",
      "           0       0.91      0.88      0.90        94\n",
      "           1       0.92      0.94      0.93       134\n",
      "\n",
      "    accuracy                           0.92       228\n",
      "   macro avg       0.92      0.91      0.91       228\n",
      "weighted avg       0.92      0.92      0.92       228\n",
      "\n"
     ]
    }
   ],
   "source": [
    "#Loading the data\n",
    "cancer_data = datasets.load_breast_cancer()\n",
    "\n",
    "#Splitting the data\n",
    "X_train,X_test,y_train,y_test = train_test_split(cancer_data.data,cancer_data.target,test_size=0.4,random_state=209)\n",
    "\n",
    "#generate the classifier\n",
    "cls = KNeighborsClassifier(n_neighbors=5)\n",
    "\n",
    "#train the model\n",
    "cls.fit(X_train,y_train)\n",
    "\n",
    "#predict the respinse\n",
    "pred  =cls.predict(X_test)\n",
    "\n",
    "#Accuracy\n",
    "print(\"Accuracy: \",metrics.accuracy_score(y_test,pred))\n",
    "\n",
    "#precision\n",
    "print(\"Precision: \",metrics.precision_score(y_test,pred))\n",
    "\n",
    "#recall\n",
    "print(\"Recall: \",metrics.recall_score(y_test,pred))\n",
    "\n",
    "#classification report\n",
    "print(\"Classification report: \\n\",metrics.classification_report(y_test,pred))"
   ]
  }
 ],
 "metadata": {
  "kernelspec": {
   "display_name": "Python 3",
   "language": "python",
   "name": "python3"
  },
  "language_info": {
   "codemirror_mode": {
    "name": "ipython",
    "version": 3
   },
   "file_extension": ".py",
   "mimetype": "text/x-python",
   "name": "python",
   "nbconvert_exporter": "python",
   "pygments_lexer": "ipython3",
   "version": "3.7.4"
  }
 },
 "nbformat": 4,
 "nbformat_minor": 2
}
