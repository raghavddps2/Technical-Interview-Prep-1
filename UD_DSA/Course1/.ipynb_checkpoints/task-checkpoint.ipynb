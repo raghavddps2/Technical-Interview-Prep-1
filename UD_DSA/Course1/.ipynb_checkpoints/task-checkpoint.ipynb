{
 "cells": [
  {
   "cell_type": "code",
   "execution_count": 25,
   "metadata": {},
   "outputs": [
    {
     "name": "stdout",
     "output_type": "stream",
     "text": [
      "image.jpg\n",
      "Screenshot from 2020-03-30 22-57-56.png\n",
      "Screenshot from 2020-03-12 22-38-03.png\n",
      "Screenshot from 2020-03-26 02-03-23.png\n",
      "Screenshot from 2020-03-25 03-31-03.png\n",
      "Screenshot from 2020-04-01 05-28-31.png\n",
      "Screenshot from 2020-04-01 04-18-52.png\n",
      "Screenshot from 2020-03-26 02-26-58.png\n",
      "Screenshot from 2020-03-27 04-02-36.png\n",
      "Screenshot from 2020-03-27 04-01-29.png\n",
      "Screenshot from 2020-03-29 16-38-53.png\n",
      "Screenshot from 2020-04-01 04-21-03.png\n",
      "Screenshot from 2020-03-25 03-33-20.png\n"
     ]
    }
   ],
   "source": [
    "import os\n",
    "import glob\n",
    "import shutil\n",
    "\n",
    "#You don't need this ig, just did to rename my images.\n",
    "dirname = \"Images\"\n",
    "for i, filename in enumerate(os.listdir(dirname)):\n",
    "    print(filename)\n",
    "    os.rename(dirname + \"/\" + filename, dirname + \"/\" + \"c\"+str(i) + \".png\")"
   ]
  },
  {
   "cell_type": "code",
   "execution_count": 31,
   "metadata": {},
   "outputs": [
    {
     "name": "stdout",
     "output_type": "stream",
     "text": [
      "c8.png\n",
      "c7.png\n",
      "c0.png\n",
      "c2.png\n",
      "c12.png\n",
      "c5.png\n",
      "c3.png\n",
      "c1.png\n",
      "c6.png\n",
      "c4.png\n",
      "c10.png\n",
      "c11.png\n",
      "c9.png\n"
     ]
    }
   ],
   "source": [
    "for i, filename in enumerate(os.listdir(dirname)):\n",
    "    print(filename)"
   ]
  },
  {
   "cell_type": "code",
   "execution_count": 32,
   "metadata": {},
   "outputs": [
    {
     "data": {
      "text/html": [
       "<div>\n",
       "<style scoped>\n",
       "    .dataframe tbody tr th:only-of-type {\n",
       "        vertical-align: middle;\n",
       "    }\n",
       "\n",
       "    .dataframe tbody tr th {\n",
       "        vertical-align: top;\n",
       "    }\n",
       "\n",
       "    .dataframe thead th {\n",
       "        text-align: right;\n",
       "    }\n",
       "</style>\n",
       "<table border=\"1\" class=\"dataframe\">\n",
       "  <thead>\n",
       "    <tr style=\"text-align: right;\">\n",
       "      <th></th>\n",
       "      <th>ImageId</th>\n",
       "      <th>label</th>\n",
       "    </tr>\n",
       "  </thead>\n",
       "  <tbody>\n",
       "    <tr>\n",
       "      <td>0</td>\n",
       "      <td>c0</td>\n",
       "      <td>0</td>\n",
       "    </tr>\n",
       "    <tr>\n",
       "      <td>1</td>\n",
       "      <td>c1</td>\n",
       "      <td>1</td>\n",
       "    </tr>\n",
       "    <tr>\n",
       "      <td>2</td>\n",
       "      <td>c2</td>\n",
       "      <td>1</td>\n",
       "    </tr>\n",
       "    <tr>\n",
       "      <td>3</td>\n",
       "      <td>c3</td>\n",
       "      <td>0</td>\n",
       "    </tr>\n",
       "    <tr>\n",
       "      <td>4</td>\n",
       "      <td>c4</td>\n",
       "      <td>1</td>\n",
       "    </tr>\n",
       "  </tbody>\n",
       "</table>\n",
       "</div>"
      ],
      "text/plain": [
       "  ImageId  label\n",
       "0      c0      0\n",
       "1      c1      1\n",
       "2      c2      1\n",
       "3      c3      0\n",
       "4      c4      1"
      ]
     },
     "execution_count": 32,
     "metadata": {},
     "output_type": "execute_result"
    }
   ],
   "source": [
    "import pandas as pd\n",
    "df = pd.read_csv('data.csv')\n",
    "df.head()\n",
    "\n"
   ]
  },
  {
   "cell_type": "code",
   "execution_count": 33,
   "metadata": {},
   "outputs": [],
   "source": [
    "os.mkdir(\"Folder1\")\n",
    "os.mkdir(\"Folder2\")"
   ]
  },
  {
   "cell_type": "code",
   "execution_count": 34,
   "metadata": {},
   "outputs": [
    {
     "name": "stdout",
     "output_type": "stream",
     "text": [
      "c0 0\n",
      "c1 1\n",
      "c2 1\n",
      "c3 0\n",
      "c4 1\n",
      "c5 1\n",
      "c6 1\n",
      "c7 1\n",
      "c8 0\n",
      "c9 0\n",
      "c10 1\n",
      "c11 1\n",
      "c12 0\n"
     ]
    }
   ],
   "source": [
    "for index, row in df.iterrows():\n",
    "    print(row['ImageId'], row['label'])"
   ]
  },
  {
   "cell_type": "code",
   "execution_count": 35,
   "metadata": {},
   "outputs": [
    {
     "name": "stdout",
     "output_type": "stream",
     "text": [
      "c0 0\n",
      "c1 1\n",
      "c2 1\n",
      "c3 0\n",
      "c4 1\n",
      "c5 1\n",
      "c6 1\n",
      "c7 1\n",
      "c8 0\n",
      "c9 0\n",
      "c10 1\n",
      "c11 1\n",
      "c12 0\n"
     ]
    }
   ],
   "source": [
    "#Copying logic.\n",
    "src_dir = \"/home/learner/Desktop/raghavddps2/UD_DSA/Course1/Images\"\n",
    "dst_dir_1 = \"/home/learner/Desktop/raghavddps2/UD_DSA/Course1/Folder1\"\n",
    "dst_dir_2 = \"/home/learner/Desktop/raghavddps2/UD_DSA/Course1/Folder2\"\n",
    "for index, row in df.iterrows():\n",
    "    print(row['ImageId'], row['label'])\n",
    "    ImageId = row['ImageId']\n",
    "    Label = row['label']\n",
    "    img_name = ImageId+\".png\"\n",
    "    if(Label == 0):\n",
    "        shutil.copy(src_dir+\"/\"+img_name,dst_dir_1)\n",
    "    else:\n",
    "        shutil.copy(src_dir+\"/\"+img_name,dst_dir_2)"
   ]
  }
 ],
 "metadata": {
  "kernelspec": {
   "display_name": "Python 3",
   "language": "python",
   "name": "python3"
  },
  "language_info": {
   "codemirror_mode": {
    "name": "ipython",
    "version": 3
   },
   "file_extension": ".py",
   "mimetype": "text/x-python",
   "name": "python",
   "nbconvert_exporter": "python",
   "pygments_lexer": "ipython3",
   "version": "3.7.4"
  }
 },
 "nbformat": 4,
 "nbformat_minor": 2
}
