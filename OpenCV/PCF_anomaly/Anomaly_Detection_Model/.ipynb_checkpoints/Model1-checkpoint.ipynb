{
 "cells": [
  {
   "cell_type": "code",
   "execution_count": 144,
   "metadata": {},
   "outputs": [
    {
     "name": "stdout",
     "output_type": "stream",
     "text": [
      "Collecting mahotas\n",
      "\u001b[?25l  Downloading https://files.pythonhosted.org/packages/84/74/bd38163462eb346519f36dc205f0a52a01fb372c7bbcc87392c9b21cfe26/mahotas-1.4.9.tar.gz (1.5MB)\n",
      "\u001b[K     |████████████████████████████████| 1.5MB 274kB/s eta 0:00:01\n",
      "\u001b[?25hRequirement already satisfied: numpy in /home/learner/anaconda3/lib/python3.7/site-packages (from mahotas) (1.17.2)\n",
      "Building wheels for collected packages: mahotas\n",
      "  Building wheel for mahotas (setup.py) ... \u001b[?25ldone\n",
      "\u001b[?25h  Created wheel for mahotas: filename=mahotas-1.4.9-cp37-cp37m-linux_x86_64.whl size=4382058 sha256=f1827a16bbb552407a241a2f31505cfef55d51f068872d9395971bbd8a9b21f1\n",
      "  Stored in directory: /home/learner/.cache/pip/wheels/02/e7/50/b67eee3b19c479cc5b41f10230bf9c1556be6eaaf095c6e997\n",
      "Successfully built mahotas\n",
      "Installing collected packages: mahotas\n",
      "Successfully installed mahotas-1.4.9\n"
     ]
    }
   ],
   "source": [
    "! pip install mahotas\n",
    "import pandas as pd\n",
    "import numpy as np\n",
    "import matplotlib.pyplot as plt\n",
    "from sklearn.ensemble import IsolationForest\n",
    "from sklearn.preprocessing import MinMaxScaler\n",
    "from sklearn import metrics\n",
    "from PIL import Image\n",
    "import os,sys\n",
    "import mahotas\n",
    "import seaborn as sns\n",
    "import cv2"
   ]
  },
  {
   "cell_type": "code",
   "execution_count": 169,
   "metadata": {},
   "outputs": [],
   "source": [
    "def pretty_cm(y_pred, y_truth, labels):\n",
    "    '''\n",
    "    'Pretty' implementation of a confusion matrix with some evaluation statistics.\n",
    "    \n",
    "    Input:\n",
    "    y_pred - object with class predictions from the model\n",
    "    y_truth - object with actual classes\n",
    "    labels - list containing label names\n",
    "    '''\n",
    "    \n",
    "    cm = metrics.confusion_matrix(y_truth, y_pred)\n",
    "    ax= plt.subplot()\n",
    "    sns.heatmap(cm, annot=True, fmt=\"d\", linewidths=.5, square = True, cmap = 'BuGn_r')\n",
    "    ax.set_xlabel('Predicted label')\n",
    "    ax.set_ylabel('Actual label')\n",
    "    ax.set_title('Confusion Matrix', size = 15) \n",
    "    ax.xaxis.set_ticklabels(labels)\n",
    "    ax.yaxis.set_ticklabels(labels)\n",
    "    \n",
    "    print('#######################')\n",
    "    print('Evaluation metrics ####')\n",
    "    print('#######################')\n",
    "    print('Accuracy: {:.4f}'.format(metrics.accuracy_score(y_truth, y_pred)))\n",
    "    print('Precision: {:.4f}'.format(metrics.precision_score(y_truth, y_pred)))\n",
    "    print('Recall: {:.4f}'.format(metrics.recall_score(y_truth, y_pred)))\n",
    "    print('F1: {:.4f}'.format(metrics.f1_score(y_truth, y_pred)))"
   ]
  },
  {
   "cell_type": "code",
   "execution_count": 170,
   "metadata": {},
   "outputs": [],
   "source": [
    "# feature-descriptor-1: Hu Moments\n",
    "def fd_hu_moments(image):\n",
    "    image = cv2.cvtColor(image, cv2.COLOR_BGR2GRAY)\n",
    "    feature = cv2.HuMoments(cv2.moments(image)).flatten()\n",
    "    return feature"
   ]
  },
  {
   "cell_type": "code",
   "execution_count": 171,
   "metadata": {},
   "outputs": [],
   "source": [
    "# feature-descriptor-2: Haralick Texture\n",
    "def fd_haralick(image):\n",
    "    # convert the image to grayscale\n",
    "    gray = cv2.cvtColor(image, cv2.COLOR_BGR2GRAY)\n",
    "    # compute the haralick texture feature vector\n",
    "    haralick = mahotas.features.haralick(gray).mean(axis=0)\n",
    "    # return the result\n",
    "    return haralick"
   ]
  },
  {
   "cell_type": "code",
   "execution_count": 172,
   "metadata": {},
   "outputs": [],
   "source": [
    "# feature-descriptor-3: Color Histogram\n",
    "def fd_histogram(image, mask=None,bins=(4, 6, 3)):\n",
    "    # convert the image to HSV color-space\n",
    "    image = cv2.cvtColor(image, cv2.COLOR_BGR2HSV)\n",
    "    # compute the color histogram\n",
    "    hist = cv2.calcHist([image], [0, 1, 2], None, bins,[0, 180, 0, 256, 0, 256])\n",
    "    # normalize the histogram\n",
    "    cv2.normalize(hist, hist)\n",
    "    # return the histogram\n",
    "    return hist.flatten()"
   ]
  },
  {
   "cell_type": "code",
   "execution_count": 189,
   "metadata": {},
   "outputs": [
    {
     "name": "stdout",
     "output_type": "stream",
     "text": [
      "[STATUS] feature vector normalized...\n"
     ]
    }
   ],
   "source": [
    "\n",
    "path = \"PCF_code/\"\n",
    "dirs = os.listdir(path)\n",
    "def extract_features(dirs,path,flag=0,test_labels=[]):\n",
    "    global_features = []\n",
    "    fixed_size = (224,224)\n",
    "    for item in dirs:\n",
    "        if os.path.isfile(path+item):\n",
    "            if flag:\n",
    "                print(item)\n",
    "                temp = item.split(\".\")\n",
    "                test_labels.append(int(temp[1]))\n",
    "            image = cv2.imread(path+item)\n",
    "            image = cv2.resize(image, fixed_size)\n",
    "            fv_hu_moments = fd_hu_moments(image)\n",
    "            fv_histogram  = fd_histogram(image)\n",
    "            fv_haralick   = fd_haralick(image)\n",
    "            global_feature = np.hstack([fv_histogram,fv_haralick,fv_hu_moments])\n",
    "            global_features.append(global_feature)\n",
    "            \n",
    "    scaler = MinMaxScaler(feature_range=(0, 1))\n",
    "    rescaled_features = scaler.fit_transform(global_features)\n",
    "    print(\"[STATUS] feature vector normalized...\")\n",
    "    return rescaled_features\n",
    "global_features = extract_features(dirs,path) "
   ]
  },
  {
   "cell_type": "code",
   "execution_count": 190,
   "metadata": {},
   "outputs": [
    {
     "name": "stdout",
     "output_type": "stream",
     "text": [
      "[[0.64893984 0.93032217 0.34267195 ... 0.         0.         0.        ]\n",
      " [0.         0.11060249 1.         ... 0.         0.         0.        ]\n",
      " [0.49376315 0.85945045 0.49547061 ... 0.         0.         0.        ]\n",
      " ...\n",
      " [0.98835767 0.88744511 0.01349712 ... 0.         0.         0.        ]\n",
      " [0.17270552 0.01611571 0.86148552 ... 0.         0.         0.        ]\n",
      " [0.06287754 0.0700774  0.95072146 ... 0.         0.         0.        ]]\n"
     ]
    }
   ],
   "source": [
    "print(rescaled_features)"
   ]
  },
  {
   "cell_type": "code",
   "execution_count": 205,
   "metadata": {},
   "outputs": [],
   "source": [
    "anomalies_ratio = 0.01\n",
    "\n",
    "# model = IsolationForest(n_estimators = 100,\n",
    "#                         contamination = anomalies_ratio, \n",
    "#                         behaviour= \" new\", \n",
    "#                         random_state = np.random.RandomState(42))\n",
    "model = IsolationForest(n_estimators=100, contamination=0.01,\n",
    "\trandom_state=42)"
   ]
  },
  {
   "cell_type": "code",
   "execution_count": 206,
   "metadata": {},
   "outputs": [
    {
     "name": "stderr",
     "output_type": "stream",
     "text": [
      "/home/learner/anaconda3/lib/python3.7/site-packages/sklearn/ensemble/iforest.py:247: FutureWarning: behaviour=\"old\" is deprecated and will be removed in version 0.22. Please use behaviour=\"new\", which makes the decision_function change to match other anomaly detection algorithm API.\n",
      "  FutureWarning)\n"
     ]
    },
    {
     "data": {
      "text/plain": [
       "IsolationForest(behaviour='old', bootstrap=False, contamination=0.01,\n",
       "                max_features=1.0, max_samples='auto', n_estimators=100,\n",
       "                n_jobs=None, random_state=42, verbose=0, warm_start=False)"
      ]
     },
     "execution_count": 206,
     "metadata": {},
     "output_type": "execute_result"
    }
   ],
   "source": [
    "#Training the model\n",
    "model.fit(global_features)"
   ]
  },
  {
   "cell_type": "code",
   "execution_count": 207,
   "metadata": {},
   "outputs": [
    {
     "name": "stdout",
     "output_type": "stream",
     "text": [
      "12.0.png\n",
      "4.1.png\n",
      "15.0.png\n",
      "13.0.png\n",
      "5.1.png\n",
      "7.1.png\n",
      "8.1.png\n",
      "14.0.png\n",
      "3.1.png\n",
      "9.1.png\n",
      "1.1.png\n",
      "10.1.png\n",
      "2.1.png\n",
      "11.0.png\n",
      "6.1.png\n",
      "[STATUS] feature vector normalized...\n"
     ]
    }
   ],
   "source": [
    "#Making the test data\n",
    "path  = \"Test_Data/\"\n",
    "dirs = os.listdir(path)\n",
    "test_y = []\n",
    "rescaled_features_test = extract_features(dirs,path,flag=1,test_labels=test_y)"
   ]
  },
  {
   "cell_type": "code",
   "execution_count": 208,
   "metadata": {},
   "outputs": [
    {
     "name": "stderr",
     "output_type": "stream",
     "text": [
      "/home/learner/anaconda3/lib/python3.7/site-packages/sklearn/ensemble/iforest.py:415: DeprecationWarning: threshold_ attribute is deprecated in 0.20 and will be removed in 0.22.\n",
      "  \" be removed in 0.22.\", DeprecationWarning)\n"
     ]
    }
   ],
   "source": [
    "y_pred = model.predict(rescaled_features_test)\n",
    "y_pred = [1 if x == -1 else 0 for x in y_pred]"
   ]
  },
  {
   "cell_type": "code",
   "execution_count": 209,
   "metadata": {},
   "outputs": [
    {
     "name": "stdout",
     "output_type": "stream",
     "text": [
      "[0, 1, 0, 0, 1, 1, 1, 0, 1, 1, 1, 1, 1, 0, 1]\n"
     ]
    }
   ],
   "source": [
    "print(test_y)"
   ]
  },
  {
   "cell_type": "code",
   "execution_count": 210,
   "metadata": {},
   "outputs": [
    {
     "name": "stdout",
     "output_type": "stream",
     "text": [
      "[0, 1, 0, 0, 1, 1, 1, 0, 1, 1, 1, 1, 1, 0, 1]\n",
      "[0, 1, 0, 0, 0, 1, 1, 0, 1, 1, 1, 1, 1, 0, 1]\n"
     ]
    }
   ],
   "source": [
    "print(test_y)\n",
    "print(y_pred)"
   ]
  },
  {
   "cell_type": "code",
   "execution_count": 211,
   "metadata": {},
   "outputs": [
    {
     "name": "stdout",
     "output_type": "stream",
     "text": [
      "#######################\n",
      "Evaluation metrics ####\n",
      "#######################\n",
      "Accuracy: 0.9333\n",
      "Precision: 1.0000\n",
      "Recall: 0.9000\n",
      "F1: 0.9474\n"
     ]
    },
    {
     "data": {
      "image/png": "[encoded data removed]",
      "text/plain": [
       "<Figure size 432x288 with 2 Axes>"
      ]
     },
     "metadata": {
      "needs_background": "light"
     },
     "output_type": "display_data"
    }
   ],
   "source": [
    "pretty_cm(y_pred, test_y, [0, 1])"
   ]
  }
 ],
 "metadata": {
  "kernelspec": {
   "display_name": "Python 3",
   "language": "python",
   "name": "python3"
  },
  "language_info": {
   "codemirror_mode": {
    "name": "ipython",
    "version": 3
   },
   "file_extension": ".py",
   "mimetype": "text/x-python",
   "name": "python",
   "nbconvert_exporter": "python",
   "pygments_lexer": "ipython3",
   "version": "3.7.4"
  }
 },
 "nbformat": 4,
 "nbformat_minor": 2
}
